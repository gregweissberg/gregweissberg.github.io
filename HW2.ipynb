{
 "metadata": {
  "name": "",
  "signature": "sha256:599b0ea84c3d919226579c2e7563353f739dc7bbf1285ac1655b728ecb2bdb0b"
 },
 "nbformat": 3,
 "nbformat_minor": 0,
 "worksheets": [
  {
   "cells": [
    {
     "cell_type": "markdown",
     "metadata": {},
     "source": [
      "## Homework 2 (Due - Feb'17th) - practice Supervised (KNN) and Un-Supervised (Clustering):\n",
      "\n",
      "Follow the steps below to:\n",
      "    - Read `wine.csv` in the data folder.\n",
      "    - We are going to use this dataset to practice Supervised (KNN) and Un-Supervised (Clustering)\n",
      "    \n",
      "### Supervised (KNN)\n",
      "\n",
      "    - Split the data into Train and Test (30%) using random_state of 42 (so that we all get same results)\n",
      "    - Using KNN, can you predict the Wine class in test\n",
      "    - How Accurate is your prediction\n",
      "    \n",
      "### Un-Supervised (Clustering)\n",
      "    - The First Column contains the Wine Category.  Don't use it in the models below.  We are going to treat it as unsupervized learning and compare the results to the Wine column.\n",
      "    - Try `KMeans` where `n_clusters = 3` and compare the clusters to the `Wine` column.\n",
      "    - Try `Hierarchical Clustering` and plot dendogram\n",
      "    - Compare the results of `KMeans` with that of Wine Column.  Is Clustering identifying the Wine groups correctly? \n",
      "\n",
      "Note that the Wine group codes will not match between Clustering and Wine Category.  What we are looking for is does all the wines in the cluster fall into the same Wine Category)."
     ]
    },
    {
     "cell_type": "code",
     "collapsed": false,
     "input": [
      "%matplotlib inline\n",
      "from __future__ import division\n",
      "import pandas as pd\n",
      "import numpy as np\n",
      "from seaborn import plt\n",
      "import sklearn.datasets as datasets\n",
      "from seaborn import plt, color_palette\n",
      "from sklearn.preprocessing import scale\n",
      "from matplotlib.colors import ListedColormap\n",
      "from sklearn import neighbors, datasets, feature_selection\n",
      "from sklearn.cross_validation import train_test_split, cross_val_score"
     ],
     "language": "python",
     "metadata": {},
     "outputs": [],
     "prompt_number": 1
    },
    {
     "cell_type": "code",
     "collapsed": false,
     "input": [
      "df=pd.read_csv('/Users/Greg/DAT_SF_12/data/wine.csv')"
     ],
     "language": "python",
     "metadata": {},
     "outputs": [],
     "prompt_number": 2
    },
    {
     "cell_type": "code",
     "collapsed": false,
     "input": [
      "df1 = df.drop('Wine', 1)"
     ],
     "language": "python",
     "metadata": {},
     "outputs": [],
     "prompt_number": 3
    },
    {
     "cell_type": "code",
     "collapsed": false,
     "input": [
      "# Various variables we'll need to set intially.\n",
      "n_neighbors = range(1, 51, 2)"
     ],
     "language": "python",
     "metadata": {},
     "outputs": [],
     "prompt_number": 4
    },
    {
     "cell_type": "code",
     "collapsed": false,
     "input": [
      "# Create the training (and test) set using scikit-learn's train_test_split function\n",
      "X_train, X_test, y_train, y_test = train_test_split(df1, df.Wine, test_size=0.3, random_state=42)\n"
     ],
     "language": "python",
     "metadata": {},
     "outputs": [],
     "prompt_number": 5
    },
    {
     "cell_type": "code",
     "collapsed": false,
     "input": [
      "# Loop through each neighbors value from 1 to 51 and append\n",
      "# the scores\n",
      "scores = []\n",
      "for n in n_neighbors:\n",
      "    clf = neighbors.KNeighborsClassifier(n)\n",
      "    clf.fit(X_train, y_train)\n",
      "    scores.append(clf.score(X_test, y_test))"
     ],
     "language": "python",
     "metadata": {},
     "outputs": [],
     "prompt_number": 6
    },
    {
     "cell_type": "code",
     "collapsed": false,
     "input": [
      "plt.figure(figsize=(18,6))\n",
      "_ = plt.plot(n_neighbors, scores, linewidth=3.0)"
     ],
     "language": "python",
     "metadata": {},
     "outputs": [
      {
       "metadata": {},
       "output_type": "display_data",
       "png": "[encoded data removed]",
       "text": [
        "<matplotlib.figure.Figure at 0x104729150>"
       ]
      }
     ],
     "prompt_number": 7
    },
    {
     "cell_type": "code",
     "collapsed": false,
     "input": [],
     "language": "python",
     "metadata": {},
     "outputs": [],
     "prompt_number": 7
    },
    {
     "cell_type": "code",
     "collapsed": false,
     "input": [
      "from sklearn.cross_validation import cross_val_score\n",
      "clf = neighbors.KNeighborsClassifier(27, weights='uniform')\n",
      "scores = cross_val_score(clf, df1, df.Wine, cv=5)\n",
      "print scores"
     ],
     "language": "python",
     "metadata": {},
     "outputs": [
      {
       "output_type": "stream",
       "stream": "stdout",
       "text": [
        "[ 0.7027027   0.72222222  0.63888889  0.71428571  0.79411765]\n"
       ]
      }
     ],
     "prompt_number": 8
    },
    {
     "cell_type": "code",
     "collapsed": false,
     "input": [
      "# This is how accurate the model is using KNN \n",
      "np.mean(scores)"
     ],
     "language": "python",
     "metadata": {},
     "outputs": [
      {
       "metadata": {},
       "output_type": "pyout",
       "prompt_number": 9,
       "text": [
        "0.71444343503167029"
       ]
      }
     ],
     "prompt_number": 9
    },
    {
     "cell_type": "code",
     "collapsed": false,
     "input": [],
     "language": "python",
     "metadata": {},
     "outputs": [],
     "prompt_number": 9
    },
    {
     "cell_type": "code",
     "collapsed": false,
     "input": [
      "########################################################################"
     ],
     "language": "python",
     "metadata": {},
     "outputs": [],
     "prompt_number": 10
    },
    {
     "cell_type": "code",
     "collapsed": false,
     "input": [
      "# Unspervised (Clustering)"
     ],
     "language": "python",
     "metadata": {},
     "outputs": [],
     "prompt_number": 11
    },
    {
     "cell_type": "code",
     "collapsed": false,
     "input": [
      "# compute distance matrix\n",
      "from scipy.spatial.distance import pdist, squareform\n",
      "\n",
      "# not printed as pretty, but the values are correct\n",
      "distx = squareform(pdist(df1, metric='euclidean'))\n",
      "distx"
     ],
     "language": "python",
     "metadata": {},
     "outputs": [
      {
       "metadata": {},
       "output_type": "pyout",
       "prompt_number": 12,
       "text": [
        "array([[   0.        ,   31.26501239,  122.83115403, ...,  230.24002302,\n",
        "         225.21518399,  506.05936766],\n",
        "       [  31.26501239,    0.        ,  135.22469301, ...,  216.22123207,\n",
        "         211.21353863,  490.23526821],\n",
        "       [ 122.83115403,  135.22469301,    0.        , ...,  350.57118792,\n",
        "         345.56265177,  625.07017782],\n",
        "       ..., \n",
        "       [ 230.24002302,  216.22123207,  350.57118792, ...,    0.        ,\n",
        "           5.35888981,  276.08601522],\n",
        "       [ 225.21518399,  211.21353863,  345.56265177, ...,    5.35888981,\n",
        "           0.        ,  281.06899242],\n",
        "       [ 506.05936766,  490.23526821,  625.07017782, ...,  276.08601522,\n",
        "         281.06899242,    0.        ]])"
       ]
      }
     ],
     "prompt_number": 12
    },
    {
     "cell_type": "code",
     "collapsed": false,
     "input": [
      "# perform clustering and plot the dendrogram\n",
      "from scipy.cluster.hierarchy import linkage, dendrogram\n",
      "\n",
      "R = dendrogram(linkage(distx, method='single'), color_threshold=10)\n",
      "\n",
      "plt.xlabel('points')\n",
      "plt.ylabel('Height')\n",
      "plt.suptitle('Cluster Dendrogram', fontweight='bold', fontsize=14);"
     ],
     "language": "python",
     "metadata": {},
     "outputs": [
      {
       "metadata": {},
       "output_type": "display_data",
       "png": "[encoded data removed]",
       "text": [
        "<matplotlib.figure.Figure at 0x10a3230d0>"
       ]
      }
     ],
     "prompt_number": 13
    },
    {
     "cell_type": "code",
     "collapsed": false,
     "input": [
      "# the cluster is not properly identifying the wine group as it is way too many different types of wines \n",
      "# Knn has accuracy of 74% of predicting the right type of wine"
     ],
     "language": "python",
     "metadata": {},
     "outputs": [],
     "prompt_number": 13
    },
    {
     "cell_type": "code",
     "collapsed": false,
     "input": [],
     "language": "python",
     "metadata": {},
     "outputs": [],
     "prompt_number": 13
    },
    {
     "cell_type": "code",
     "collapsed": false,
     "input": [],
     "language": "python",
     "metadata": {},
     "outputs": []
    }
   ],
   "metadata": {}
  }
 ]
}